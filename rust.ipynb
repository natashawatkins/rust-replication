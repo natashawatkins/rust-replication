{
 "cells": [
  {
   "cell_type": "code",
   "execution_count": 1,
   "metadata": {},
   "outputs": [],
   "source": [
    "import pandas as pd\n",
    "import numpy as np\n",
    "import matplotlib.pyplot as plt\n",
    "from scipy.optimize import minimize, fixed_point\n",
    "from numba import njit, float64, float32, int64, prange\n",
    "from numba.experimental import jitclass"
   ]
  },
  {
   "cell_type": "markdown",
   "metadata": {},
   "source": [
    "# Replication of Rust (1987)\n",
    "\n",
    "The manual, raw data, and other code is located in the folder `nxfp` and was sourced from [here](https://zenodo.org/record/3385050#.YjTy3C-B1QI). \n",
    "\n",
    "## Part 1: Data manipulation\n",
    "\n",
    "This is by far the most tedious part of the replication.\n",
    "\n",
    "The data is contained in ASCII files which must first be reshaped and then have the information contained in the first 11 rows be extracted.\n",
    "\n",
    "The mileage given is the *accumulated* mileage, meaning it isn't reset to 0 after engine replacement. We will also create a separate dataset where mileage following the replacement has the mileage at replacement subtracted. Note that mileage *at the time of replacement* isn't set to 0, since the decision maker observes the total mileage at that time before deciding whether to replace."
   ]
  },
  {
   "cell_type": "code",
   "execution_count": 2,
   "metadata": {},
   "outputs": [],
   "source": [
    "# Import the raw data\n",
    "b1_raw = pd.read_csv('nfxp/dat/g870.asc', header=None)\n",
    "b1_raw = pd.DataFrame(b1_raw.values.reshape((15, int(len(b1_raw) / 15)))).T\n",
    "\n",
    "b2_raw = pd.read_csv('nfxp/dat/rt50.asc', header=None)\n",
    "b2_raw = pd.DataFrame(b2_raw.values.reshape((4, int(len(b2_raw) / 4)))).T\n",
    "\n",
    "b3_raw = pd.read_csv('nfxp/dat/t8h203.asc', header=None)\n",
    "b3_raw = pd.DataFrame(b3_raw.values.reshape((48, int(len(b3_raw) / 48)))).T\n",
    "\n",
    "b4_raw = pd.read_csv('nfxp/dat/a530875.asc', header=None)\n",
    "b4_raw = pd.DataFrame(b4_raw.values.reshape((37, int(len(b4_raw) / 37)))).T"
   ]
  },
  {
   "cell_type": "code",
   "execution_count": 3,
   "metadata": {},
   "outputs": [],
   "source": [
    "def extract_info(b):\n",
    "\n",
    "    # Create separate dataframe for bus info\n",
    "    new_index = ['' for x in range(11)]\n",
    "    new_index[0] = 'bus_number'\n",
    "    new_index[1] = 'month_purchased'\n",
    "    new_index[2] = 'year_purchased'\n",
    "    new_index[3] = 'month_replacement_1'\n",
    "    new_index[4] = 'year_replacement_1'\n",
    "    new_index[5] = 'odometer_replacement_1'\n",
    "    new_index[6] = 'month_replacement_2'\n",
    "    new_index[7] = 'year_replacement_2'\n",
    "    new_index[8] = 'odometer_replacement_2'\n",
    "    new_index[9] = 'month_begin'\n",
    "    new_index[10] = 'year_begin'\n",
    "    b_info = b.iloc[:11]\n",
    "    b_info.index = new_index\n",
    "    b_info = b_info.T.set_index('bus_number').T\n",
    "    \n",
    "    # Set bus number to be column headers\n",
    "    b = b.T.set_index([0]).T\n",
    "\n",
    "    # Drop bus info\n",
    "    b = b[10:]\n",
    "\n",
    "    # Add dates to row index\n",
    "    month = b_info.loc[\"month_begin\"].values[0]\n",
    "    year = b_info.loc[\"year_begin\"].values[0]\n",
    "    b.index = pd.date_range(f\"{year}-{month}-01\", periods=len(b), freq=\"MS\")\n",
    "\n",
    "    # Fix month and years of odometer replacements to be date corresponding to odometer replacement\n",
    "    # Rust points out this differs in some cases\n",
    "    col_map = pd.DataFrame(b.columns).to_dict()[0]\n",
    "    for o in ['1', '2']:\n",
    "        x, y = np.where(b > b_info.loc[f'odometer_replacement_{o}', :])\n",
    "        replacement = pd.DataFrame([x, y], index=['row', 'column']).T\n",
    "        replacement = replacement.groupby('column').min()\n",
    "        replacement.index = replacement.index.map(col_map)\n",
    "        replacement[f'month_{o}'] = replacement['row'].apply(lambda x: b.index[x].month)\n",
    "        replacement[f'year_{o}'] = replacement['row'].apply(lambda x: np.mod(b.index[x].year, 1900))\n",
    "        replacement[f'replace_{o}'] = replacement['row'].apply(lambda x: pd.Timestamp(year=b.index[x].year, month=b.index[x].month, day=1))\n",
    "        replacement[replacement.row == 0] = 0\n",
    "        # Append checks to dataframe\n",
    "        replacement = replacement.drop('row', axis=1)\n",
    "        b_info = pd.concat([b_info, replacement.T])\n",
    "\n",
    "    return b_info, b"
   ]
  },
  {
   "cell_type": "code",
   "execution_count": 4,
   "metadata": {},
   "outputs": [],
   "source": [
    "def update_b(b, b_info):\n",
    "    '''Resets mileage after replacement and returns investment decision matrix'''\n",
    "\n",
    "    b_reset = b.copy()\n",
    "    b_i = b.copy()\n",
    "    b_i[:] = 0\n",
    "\n",
    "    for col in b.iteritems():\n",
    "\n",
    "        bus_number = col[0]\n",
    "        bus_info = b_info[bus_number].copy()\n",
    "\n",
    "        for r in ('1'):\n",
    "            replace_date = bus_info[f'replace_{r}']\n",
    "\n",
    "            if replace_date != 0:\n",
    "\n",
    "                if r == '1':\n",
    "                    odometer_replacement = b.loc[replace_date, bus_number]\n",
    "\n",
    "                if r == '2':\n",
    "                    # Subtract mileage from earlier replacement\n",
    "                    replace_date_1 = bus_info[f'replace_1']\n",
    "                    previous_mileage = b.loc[replace_date_1, bus_number]\n",
    "                    odometer_replacement = b.loc[replace_date, bus_number] - previous_mileage\n",
    "                \n",
    "                bus_odometer = b_reset[bus_number].copy()\n",
    "                \n",
    "                # Find replacement date then subtract odometer replacement value from\n",
    "                # odometer readings after replacement\n",
    "                bus_odometer[bus_odometer.index > replace_date] -= odometer_replacement\n",
    "                b_reset[bus_number] = bus_odometer\n",
    "\n",
    "                # Set decision = 1 on replacement date\n",
    "                b_i.loc[replace_date, bus_number] = 1\n",
    "\n",
    "    return b, b_reset, b_i"
   ]
  },
  {
   "cell_type": "code",
   "execution_count": 5,
   "metadata": {},
   "outputs": [],
   "source": [
    "def discretize(b, d=5000):\n",
    "    '''Discretizes odometer data into buckets of length d'''\n",
    "\n",
    "    return np.floor(b / d)"
   ]
  },
  {
   "cell_type": "code",
   "execution_count": 6,
   "metadata": {},
   "outputs": [],
   "source": [
    "# Extract information from the raw datasets\n",
    "b1_info, b1 = extract_info(b1_raw)\n",
    "b2_info, b2 = extract_info(b2_raw)\n",
    "b3_info, b3 = extract_info(b3_raw)\n",
    "b4_info, b4 = extract_info(b4_raw)\n",
    "\n",
    "# Get relevant data and merge\n",
    "b1, b1_reset, b1_i = update_b(b1, b1_info)\n",
    "b2, b2_reset, b2_i = update_b(b2, b2_info)\n",
    "b3, b3_reset, b3_i = update_b(b3, b3_info)\n",
    "b4, b4_reset, b4_i = update_b(b4, b4_info)\n",
    "\n",
    "b = pd.concat([b1, b2, b3, b4], axis=1, join='outer')\n",
    "b_reset = pd.concat([b1_reset, b2_reset, b3_reset, b4_reset], axis=1, join='outer')\n",
    "b_i = pd.concat([b1_i, b2_i, b3_i, b4_i], axis=1, join='outer')\n",
    "\n",
    "# Create dataframe for likelihood estimation\n",
    "b_data = pd.concat([discretize(b_reset.T.stack()), b_i.T.stack()], axis=1)\n",
    "b_data.columns = ['state', 'decision']\n"
   ]
  },
  {
   "cell_type": "markdown",
   "metadata": {},
   "source": [
    "The transition probabilities are found by discretizing the data set into intervals of length 5000. The transition states $d$ are given as\n",
    "$$\n",
    "d=\n",
    "\\begin{cases}\n",
    "0 \\quad \\Delta mileage \\in [0, 5000) \\\\\n",
    "1 \\quad \\Delta mileage \\in [5000, 10000) \\\\\n",
    "2 \\quad \\Delta mileage \\in [10000, \\infty)\n",
    "\\end{cases}\n",
    "$$\n",
    "\n",
    "Then the empirical frequency of $d$ gives the transition probabilities."
   ]
  },
  {
   "cell_type": "code",
   "execution_count": 17,
   "metadata": {},
   "outputs": [],
   "source": [
    "# Discretize the odometer readings\n",
    "b_discrete = discretize(b)\n",
    "\n",
    "# Calculate the states d = {0, 1, 2}\n",
    "b_state = b_discrete - b_discrete.shift(1)\n",
    "\n",
    "# Find the transition probabilities\n",
    "N = b_state.notna().sum().sum()\n",
    "p = (b_state == 0).sum().sum() / N\n",
    "q = (b_state == 1).sum().sum() / N"
   ]
  },
  {
   "cell_type": "markdown",
   "metadata": {},
   "source": [
    "## Part 2: Setting up the model\n",
    "\n",
    "The following class will contain all the relevant parameters in the model. I use `@jitclass` to be able to speed up my code with Numba later on. This requires telling Numba what data type each parameter is."
   ]
  },
  {
   "cell_type": "code",
   "execution_count": 18,
   "metadata": {},
   "outputs": [],
   "source": [
    "spec = [('β', float64),\n",
    "        ('θ_1', float64),\n",
    "        ('RC', float64),\n",
    "        ('T', int64),\n",
    "        ('p', float64),\n",
    "        ('q', float64),\n",
    "        ('scale', float64),\n",
    "        ('P', float64[:, :]),\n",
    "        ('x', float64[:])]\n",
    "\n",
    "@jitclass(spec)\n",
    "class Rust(object):\n",
    "\n",
    "    def __init__(self, β=0.9999, θ_1=3.6, \n",
    "                 RC=10, T=90, p=0.3497, \n",
    "                 q=0.6387, scale=0.001):\n",
    "\n",
    "        self.β = β\n",
    "        self.θ_1 = θ_1\n",
    "        self.RC = RC\n",
    "        self.T = T\n",
    "        self.p = p\n",
    "        self.q = q\n",
    "        self.scale = scale\n",
    "\n",
    "        # Construct transition matrix\n",
    "        P = np.zeros((T, T))\n",
    "        np.fill_diagonal(P, p)\n",
    "        P += np.diag(np.ones(T - 1) * q, 1)\n",
    "        P += np.diag(np.ones(T - 2) * (1 - p - q), 2)\n",
    "        P[:, -1] += 1 - P.sum(1)  # Adjust to sum to 1\n",
    "        self.P = P\n",
    "\n",
    "        # Statespace of x\n",
    "        self.x = np.arange(T, dtype=np.float64)"
   ]
  },
  {
   "cell_type": "markdown",
   "metadata": {},
   "source": [
    "Next I define the cost and utility functions "
   ]
  },
  {
   "cell_type": "code",
   "execution_count": 19,
   "metadata": {},
   "outputs": [],
   "source": [
    "@njit\n",
    "def c(x, rust):\n",
    "    '''Linear cost function'''\n",
    "\n",
    "    scale = rust.scale\n",
    "    θ_1 = rust.θ_1\n",
    "\n",
    "    return scale * θ_1 * x\n",
    "\n",
    "@njit\n",
    "def u(x, i, rust):\n",
    "    '''Utility function'''\n",
    "    \n",
    "    θ_1 = rust.θ_1\n",
    "    scale = rust.scale\n",
    "    RC = rust.RC\n",
    "\n",
    "    if i == 0:\n",
    "        return -c(x, rust)\n",
    "\n",
    "    if i == 1:\n",
    "        return -c(x, rust) - RC"
   ]
  },
  {
   "cell_type": "markdown",
   "metadata": {},
   "source": [
    "## Part 3: Solving the inner loop\n",
    "\n",
    "The inner loop is a straight-forward dynamic programming problem which does not depend on the data.\n",
    "\n",
    "Note that the number of iterations in each loop is high, so `maxiter` should be set to a large number. To avoid overflow issues in the exponential function, the current expected value is subtracted from the conditional values, and then re-added after taking the log of the exponential."
   ]
  },
  {
   "cell_type": "code",
   "execution_count": 20,
   "metadata": {},
   "outputs": [],
   "source": [
    "@njit\n",
    "def solve_EV(rust, tol=1e-3, maxiter=300000, print_flag=False):\n",
    "\n",
    "    T = rust.T\n",
    "    β = rust.β\n",
    "    P = np.ascontiguousarray(rust.P)\n",
    "    RC = rust.RC\n",
    "    x = rust.x\n",
    "    θ_1 = rust.θ_1\n",
    "    scale = rust.scale\n",
    "\n",
    "    # Initial guess of value function\n",
    "    EV = np.zeros(T)\n",
    "\n",
    "    # Bellman operator\n",
    "    def T(EV):\n",
    "        wait = u(x, 0, rust) + β * EV\n",
    "        replace = u(x[0], 1, rust) + β * EV[0]\n",
    "        EV_new = np.exp(replace - EV) + np.exp(wait - EV)\n",
    "        EV_new = P @ (np.log(EV_new) + EV)\n",
    "        return EV_new\n",
    "\n",
    "    # Find the fixed point of Bellman operator\n",
    "    i = 0\n",
    "    dist = 1e3\n",
    "    for i in prange(maxiter):\n",
    "        EV_new = T(EV)\n",
    "        dist = np.linalg.norm(EV - EV_new)\n",
    "\n",
    "        if dist < tol:\n",
    "            if print_flag:\n",
    "                print(f'Converged in {i} iterations')\n",
    "            return EV\n",
    "        else:\n",
    "            i += 1\n",
    "            EV = EV_new.copy()\n",
    "    \n",
    "    if print_flag:\n",
    "        print('Reached max iterations')\n",
    "        \n",
    "    return EV"
   ]
  },
  {
   "cell_type": "markdown",
   "metadata": {},
   "source": [
    "Here is what the solution of the inner loop looks like given some starting values."
   ]
  },
  {
   "cell_type": "code",
   "execution_count": 21,
   "metadata": {},
   "outputs": [
    {
     "data": {
      "image/png": "[encoded data removed]",
      "text/plain": [
       "<Figure size 432x288 with 1 Axes>"
      ]
     },
     "metadata": {
      "needs_background": "light"
     },
     "output_type": "display_data"
    }
   ],
   "source": [
    "r = Rust(p=p, q=q)\n",
    "EV_star = solve_EV(r)\n",
    "plt.plot(r.x, EV_star, label=rf'$\\beta = {r.β}$')\n",
    "\n",
    "plt.title('Expected value function')\n",
    "plt.xlabel('$x$')\n",
    "plt.legend()\n",
    "plt.show()"
   ]
  },
  {
   "cell_type": "markdown",
   "metadata": {},
   "source": [
    "## Part 4: Solving the outer loop\n",
    "\n",
    "The outer loop solves for the parameters using maximum likelihood estimation.\n",
    "\n",
    "Given some parameters, we find the solution to the dynamic programming problem and use the expected values to calculate the conditional probability of waiting or replacing the engine. Then using our data, we construct the log likelihood function by summing up the conditional probability that corresponds to the state and decision for each observation. As such, the only data needed is the decision $i$ and state $x$. The state is the discretized mileage accounting for previous engine replacements.\n",
    "\n",
    "Here is what the dataframe looks like:"
   ]
  },
  {
   "cell_type": "code",
   "execution_count": 22,
   "metadata": {},
   "outputs": [
    {
     "data": {
      "text/html": [
       "<div>\n",
       "<style scoped>\n",
       "    .dataframe tbody tr th:only-of-type {\n",
       "        vertical-align: middle;\n",
       "    }\n",
       "\n",
       "    .dataframe tbody tr th {\n",
       "        vertical-align: top;\n",
       "    }\n",
       "\n",
       "    .dataframe thead th {\n",
       "        text-align: right;\n",
       "    }\n",
       "</style>\n",
       "<table border=\"1\" class=\"dataframe\">\n",
       "  <thead>\n",
       "    <tr style=\"text-align: right;\">\n",
       "      <th></th>\n",
       "      <th></th>\n",
       "      <th>state</th>\n",
       "      <th>decision</th>\n",
       "    </tr>\n",
       "    <tr>\n",
       "      <th>0</th>\n",
       "      <th></th>\n",
       "      <th></th>\n",
       "      <th></th>\n",
       "    </tr>\n",
       "  </thead>\n",
       "  <tbody>\n",
       "    <tr>\n",
       "      <th rowspan=\"5\" valign=\"top\">4403</th>\n",
       "      <th>1983-05-01</th>\n",
       "      <td>0.0</td>\n",
       "      <td>0.0</td>\n",
       "    </tr>\n",
       "    <tr>\n",
       "      <th>1983-06-01</th>\n",
       "      <td>0.0</td>\n",
       "      <td>0.0</td>\n",
       "    </tr>\n",
       "    <tr>\n",
       "      <th>1983-07-01</th>\n",
       "      <td>1.0</td>\n",
       "      <td>0.0</td>\n",
       "    </tr>\n",
       "    <tr>\n",
       "      <th>1983-08-01</th>\n",
       "      <td>2.0</td>\n",
       "      <td>0.0</td>\n",
       "    </tr>\n",
       "    <tr>\n",
       "      <th>1983-09-01</th>\n",
       "      <td>3.0</td>\n",
       "      <td>0.0</td>\n",
       "    </tr>\n",
       "  </tbody>\n",
       "</table>\n",
       "</div>"
      ],
      "text/plain": [
       "                 state  decision\n",
       "0                               \n",
       "4403 1983-05-01    0.0       0.0\n",
       "     1983-06-01    0.0       0.0\n",
       "     1983-07-01    1.0       0.0\n",
       "     1983-08-01    2.0       0.0\n",
       "     1983-09-01    3.0       0.0"
      ]
     },
     "execution_count": 22,
     "metadata": {},
     "output_type": "execute_result"
    }
   ],
   "source": [
    "b_data.head()"
   ]
  },
  {
   "cell_type": "markdown",
   "metadata": {},
   "source": [
    "The formula for conditional probabilities results from the assumption that the errors are Gumbel distributed.\n",
    "\n",
    "$$\n",
    "Pr(i|x, \\theta) = \\frac{exp(u(x, i, \\theta_1) + \\beta EV(x, i))}{\\sum_j exp(u(x, j, \\theta_1) + \\beta EV(x, j))}\n",
    "$$\n"
   ]
  },
  {
   "cell_type": "code",
   "execution_count": 23,
   "metadata": {},
   "outputs": [],
   "source": [
    "def conditional_probability(x, EV, rust):\n",
    "\n",
    "    β = r.β\n",
    "    x = r.x\n",
    "    P = r.P\n",
    "\n",
    "    wait = u(x, 0, rust) + β * P @ EV\n",
    "    replace = u(x[0], 1, rust) + β * EV[0]\n",
    "    P_wait = 1 / (1 + np.exp(replace - wait))\n",
    "    P_replace = 1 - P_wait\n",
    "    \n",
    "    return P_wait, P_replace\n"
   ]
  },
  {
   "cell_type": "markdown",
   "metadata": {},
   "source": [
    "The log-likelihood function first solves the inner loops to find the expected value given the parameters, then returns the negative of the log-likelihood to minimize."
   ]
  },
  {
   "cell_type": "code",
   "execution_count": 24,
   "metadata": {},
   "outputs": [],
   "source": [
    "def log_likelihood(θ,             # Parameters to search over \n",
    "                   b_data):       # Data consists of states and decisions\n",
    "\n",
    "    # Guess of parameters\n",
    "    θ_1, RC = θ\n",
    "\n",
    "    # Solve inner loop with these parameters\n",
    "    r = Rust(θ_1=θ_1, RC=RC)\n",
    "    EV_star = solve_EV(r)\n",
    "\n",
    "    # Choice probabilities conditional on x and i\n",
    "    P_wait, P_replace = conditional_probability(r.x, EV_star, r)\n",
    "\n",
    "    # Log likelihood is sum of conditional probabilities given observed data\n",
    "    logL = 0\n",
    "    for decision, state in zip(b_data.decision, b_data.state):\n",
    "        state = int(state)\n",
    "\n",
    "        # Wait\n",
    "        if decision == 0:\n",
    "            logL += np.log(P_wait[state])\n",
    "        \n",
    "        # Replace\n",
    "        if decision == 1:\n",
    "            logL += np.log(P_replace[state])\n",
    "\n",
    "    return -logL"
   ]
  },
  {
   "cell_type": "code",
   "execution_count": 27,
   "metadata": {},
   "outputs": [],
   "source": [
    "θ_star = minimize(log_likelihood, x0=(0.1, 10), args=b_data, method='Nelder-Mead').x"
   ]
  },
  {
   "cell_type": "markdown",
   "metadata": {},
   "source": [
    "The solution is very close to the solution in Rust's paper:"
   ]
  },
  {
   "cell_type": "code",
   "execution_count": 28,
   "metadata": {},
   "outputs": [
    {
     "data": {
      "text/plain": [
       "array([ 2.62057946, 10.03708149])"
      ]
     },
     "execution_count": 28,
     "metadata": {},
     "output_type": "execute_result"
    }
   ],
   "source": [
    "θ_star"
   ]
  },
  {
   "cell_type": "markdown",
   "metadata": {},
   "source": [
    "## Part 5: Plotting the results"
   ]
  },
  {
   "cell_type": "code",
   "execution_count": 16,
   "metadata": {},
   "outputs": [],
   "source": [
    "# Use the solution to set up a new model\n",
    "r_star = Rust(p=p, q=q, θ_1=θ_star[0], RC=θ_star[1])\n",
    "EV_star = solve_EV(r_star)"
   ]
  },
  {
   "cell_type": "code",
   "execution_count": 17,
   "metadata": {},
   "outputs": [
    {
     "data": {
      "image/png": "[encoded data removed]",
      "text/plain": [
       "<Figure size 432x288 with 1 Axes>"
      ]
     },
     "metadata": {
      "needs_background": "light"
     },
     "output_type": "display_data"
    }
   ],
   "source": [
    "plt.plot(r_star.x, EV_star)\n",
    "plt.title('Expected value at solution')\n",
    "plt.xlabel('$x$')\n",
    "plt.show()"
   ]
  },
  {
   "cell_type": "code",
   "execution_count": 18,
   "metadata": {},
   "outputs": [
    {
     "data": {
      "image/png": "[encoded data removed]",
      "text/plain": [
       "<Figure size 432x288 with 2 Axes>"
      ]
     },
     "metadata": {
      "needs_background": "light"
     },
     "output_type": "display_data"
    }
   ],
   "source": [
    "P_star = pd.DataFrame(conditional_probability(r_star.x, EV_star, r_star)).T\n",
    "P_star.iloc[:, 0].plot(label='Pr(wait)', legend=True, title='Conditional probabilities', xlabel='$x$')\n",
    "P_star.iloc[:, 1].plot(secondary_y=True, label='Pr(replace)', legend=True)\n",
    "plt.show()"
   ]
  }
 ],
 "metadata": {
  "interpreter": {
   "hash": "40d3a090f54c6569ab1632332b64b2c03c39dcf918b08424e98f38b5ae0af88f"
  },
  "kernelspec": {
   "display_name": "Python 3.8.12 ('base')",
   "language": "python",
   "name": "python3"
  },
  "language_info": {
   "codemirror_mode": {
    "name": "ipython",
    "version": 3
   },
   "file_extension": ".py",
   "mimetype": "text/x-python",
   "name": "python",
   "nbconvert_exporter": "python",
   "pygments_lexer": "ipython3",
   "version": "3.8.12"
  },
  "orig_nbformat": 4
 },
 "nbformat": 4,
 "nbformat_minor": 2
}
